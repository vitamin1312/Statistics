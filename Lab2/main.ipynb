{
 "cells": [
  {
   "cell_type": "markdown",
   "metadata": {},
   "source": [
    "<p style=\"text-align: center;\">\n",
    "    МИНОБРНАУКИ РОССИИ <br>\n",
    "    РГУ НЕФТИ И ГАЗА (НИУ) ИМЕНИ И.М. ГУБКИНА<br>\n",
    "    ФАКУЛЬТЕТ АВТОМАТИКИ И ВЫЧИСЛИТЕЛЬНОЙ ТЕХНИКИ<br>\n",
    "    КАФЕДРА АВТОМАТИЗИРОВАННЫХ СИСТЕМ УПРАВЛЕНИЯ<br>\n",
    "    ДИСЦИПЛИНА <br>\n",
    "        «Модели и методы обработки статистической информации в автоматизированном управлении НГО»\n",
    "    <br><br> <br> <br> <br> <br> <br><br>\n",
    "    ОТЧЁТ <br>\n",
    "    по лабораторной работе №2 <br>\n",
    "    «Статистический анализ одномерных выборок. Проверка статистических гипотез.»<br> <br> <br> <br> <br><br> <br> <br> <br> <br> <br><br>\n",
    "</p>\n",
    "\n",
    "<p style=\"text-align: right;\">\n",
    "    Выполнил: студент группы АС-21-05, Негробов В.А.<br>\n",
    "    Проверила: старший преодаватель, Степанкина О.А.<br><br> <br> <br> <br> <br><br> <br> <br> <br> <br> <br><br><br> <br> <br> <br> <br><br>\n",
    "</p>\n",
    "\n",
    "<p style=\"text-align: center;\">\n",
    "    МОСКВА 2024\n",
    "</p>"
   ]
  },
  {
   "cell_type": "markdown",
   "metadata": {},
   "source": [
    "----------------------------------------------------------------------------------------\n",
    "<br><br>Вариант 14 (2)\n",
    "\n",
    "Дано:\n",
    "7 одномерных случайных величин (одномерных выборок)\n",
    "Задание:\n",
    "1. Проверить каждую выборку на принадлежность к некоторому закону\n",
    "распределения (данные и набор гипотез из работы 1), используя критерии хиквадрат и Колмогорова-Смирнова.\n",
    "\n",
    "2. Можно ли в качестве оценки математического ожидания использовать\n",
    "округленное до целого среднее значение? Обосновать.\n",
    "\n",
    "3. Для пар нормально распределенных случайных величин проверить: $\\mu_1 = \\mu_2$; $\\sigma_1^2 = \\sigma_2^2$\n",
    "\n",
    "4. Проверить однородность тех же (п. 3) выборок, используя непараметрические\n",
    "критерии Колмогорова-Смирнова, Мана-Уитни, Уилкоксона.\n",
    "\n",
    "5. Используя методы понижения дисперсии, оценить основные характеристики\n",
    "выборки.\n",
    "\n",
    "6. Провести проверку на наличие тренда в выборках. "
   ]
  },
  {
   "cell_type": "markdown",
   "metadata": {},
   "source": [
    "# Предварительная подготовка"
   ]
  },
  {
   "cell_type": "markdown",
   "metadata": {},
   "source": [
    "Подключение используемых библиотек:"
   ]
  },
  {
   "cell_type": "code",
   "execution_count": 235,
   "metadata": {},
   "outputs": [],
   "source": [
    "import pandas as pd\n",
    "import seaborn as sns\n",
    "from matplotlib import pyplot as plt\n",
    "import numpy as np\n",
    "from scipy import stats\n",
    "import pymannkendall as mk\n",
    "\n",
    "from collections import namedtuple"
   ]
  },
  {
   "cell_type": "markdown",
   "metadata": {},
   "source": [
    "Подключим стиль ggplot вывода графиков:"
   ]
  },
  {
   "cell_type": "code",
   "execution_count": null,
   "metadata": {},
   "outputs": [],
   "source": [
    "plt.style.use('ggplot')"
   ]
  },
  {
   "cell_type": "markdown",
   "metadata": {},
   "source": [
    "Создадим функцию, выполняющую проверку на нормальность с помощью критерия Хи-квадрт"
   ]
  },
  {
   "cell_type": "code",
   "execution_count": null,
   "metadata": {},
   "outputs": [],
   "source": [
    "def get_uniform_freqs(values, mean=10):\n",
    "    \n",
    "    length = len(values)\n",
    "    m = length // mean\n",
    "    freqs = np.zeros(m)\n",
    "    \n",
    "\n",
    "    for i, (lower_bound, upper_bound) in enumerate(zip(x_values[:-1], x_values[1:])):\n",
    "        freqs[i] = ((values > lower_bound) & (values < upper_bound)).sum()\n",
    "    return freqs, mean"
   ]
  },
  {
   "cell_type": "code",
   "execution_count": 210,
   "metadata": {},
   "outputs": [],
   "source": [
    "def get_freqs(values, func, mean=10):\n",
    "\n",
    "    length = len(values)\n",
    "    m = length // mean\n",
    "    freqs = np.zeros(m)\n",
    "    x_values = np.array([func(p) for p in np.linspace(0, 1, m+1)])\n",
    "    \n",
    "    freqs[0] = ((values >= x_values[0]) & (values <= x_values[1])).sum()\n",
    "    for i, (lower_bound, upper_bound) in enumerate(zip(x_values[1:-1], x_values[2:])):\n",
    "            freqs[i + 1] = ((values > lower_bound) & (values <= upper_bound)).sum()\n",
    "            \n",
    "    return freqs, mean"
   ]
  },
  {
   "cell_type": "code",
   "execution_count": null,
   "metadata": {},
   "outputs": [],
   "source": [
    "def chisquaretest(values, distribution='uniform'):\n",
    "    \n",
    "    func = None\n",
    "    \n",
    "    if distribution == 'norm':\n",
    "        func = stats.norm.ppf\n",
    "    if distribution == 'uniform':\n",
    "        func = lambda p: p\n",
    "    freqs, mean = get_freqs(values, func)\n",
    "    expected_freqs = np.ones_like(freqs) * mean\n",
    "    return stats.chisquare(freqs, expected_freqs)"
   ]
  },
  {
   "cell_type": "markdown",
   "metadata": {},
   "source": [
    "Создадим функцию, выполняющую проверку на равенство дисперсий с использованием статистики Фишера-Снедекора"
   ]
  },
  {
   "cell_type": "code",
   "execution_count": null,
   "metadata": {},
   "outputs": [],
   "source": [
    "FischerSnedekorTestResult = namedtuple(\n",
    "    'FischerSnedekorTestResult', ['statistic', 'pvalue']\n",
    ")"
   ]
  },
  {
   "cell_type": "code",
   "execution_count": 226,
   "metadata": {},
   "outputs": [],
   "source": [
    "def fischersnedekortest(value1, value2):\n",
    "    statistic = (np.std(value1, ddof=1) / np.std(value2,ddof=1))**2\n",
    "    pvalue = stats.f.sf(statistic, len(value1) - 1, len(value2) - 1)\n",
    "    return FischerSnedekorTestResult(statistic, pvalue)"
   ]
  },
  {
   "cell_type": "markdown",
   "metadata": {},
   "source": [
    "Считаем данные:"
   ]
  },
  {
   "cell_type": "code",
   "execution_count": 212,
   "metadata": {},
   "outputs": [
    {
     "data": {
      "text/html": [
       "<div>\n",
       "<style scoped>\n",
       "    .dataframe tbody tr th:only-of-type {\n",
       "        vertical-align: middle;\n",
       "    }\n",
       "\n",
       "    .dataframe tbody tr th {\n",
       "        vertical-align: top;\n",
       "    }\n",
       "\n",
       "    .dataframe thead th {\n",
       "        text-align: right;\n",
       "    }\n",
       "</style>\n",
       "<table border=\"1\" class=\"dataframe\">\n",
       "  <thead>\n",
       "    <tr style=\"text-align: right;\">\n",
       "      <th></th>\n",
       "      <th>var1</th>\n",
       "      <th>var2</th>\n",
       "      <th>var3</th>\n",
       "      <th>var4</th>\n",
       "      <th>var5</th>\n",
       "      <th>var6</th>\n",
       "      <th>var7</th>\n",
       "    </tr>\n",
       "  </thead>\n",
       "  <tbody>\n",
       "    <tr>\n",
       "      <th>0</th>\n",
       "      <td>-16.427992</td>\n",
       "      <td>10.337568</td>\n",
       "      <td>10.094972</td>\n",
       "      <td>12.235925</td>\n",
       "      <td>10</td>\n",
       "      <td>16</td>\n",
       "      <td>-2.336080</td>\n",
       "    </tr>\n",
       "    <tr>\n",
       "      <th>1</th>\n",
       "      <td>-29.368694</td>\n",
       "      <td>20.601542</td>\n",
       "      <td>15.573639</td>\n",
       "      <td>12.159321</td>\n",
       "      <td>6</td>\n",
       "      <td>15</td>\n",
       "      <td>5.041232</td>\n",
       "    </tr>\n",
       "    <tr>\n",
       "      <th>2</th>\n",
       "      <td>-6.561724</td>\n",
       "      <td>1.876631</td>\n",
       "      <td>2.625150</td>\n",
       "      <td>24.552468</td>\n",
       "      <td>10</td>\n",
       "      <td>14</td>\n",
       "      <td>6.987623</td>\n",
       "    </tr>\n",
       "    <tr>\n",
       "      <th>3</th>\n",
       "      <td>7.358867</td>\n",
       "      <td>17.243398</td>\n",
       "      <td>15.855155</td>\n",
       "      <td>12.348476</td>\n",
       "      <td>9</td>\n",
       "      <td>14</td>\n",
       "      <td>9.542421</td>\n",
       "    </tr>\n",
       "    <tr>\n",
       "      <th>4</th>\n",
       "      <td>6.692038</td>\n",
       "      <td>-23.179041</td>\n",
       "      <td>11.742064</td>\n",
       "      <td>19.597243</td>\n",
       "      <td>9</td>\n",
       "      <td>15</td>\n",
       "      <td>11.116361</td>\n",
       "    </tr>\n",
       "    <tr>\n",
       "      <th>...</th>\n",
       "      <td>...</td>\n",
       "      <td>...</td>\n",
       "      <td>...</td>\n",
       "      <td>...</td>\n",
       "      <td>...</td>\n",
       "      <td>...</td>\n",
       "      <td>...</td>\n",
       "    </tr>\n",
       "    <tr>\n",
       "      <th>495</th>\n",
       "      <td>-14.625446</td>\n",
       "      <td>28.472332</td>\n",
       "      <td>3.514818</td>\n",
       "      <td>14.900529</td>\n",
       "      <td>8</td>\n",
       "      <td>9</td>\n",
       "      <td>11.921887</td>\n",
       "    </tr>\n",
       "    <tr>\n",
       "      <th>496</th>\n",
       "      <td>-8.260384</td>\n",
       "      <td>29.031223</td>\n",
       "      <td>15.098677</td>\n",
       "      <td>11.791395</td>\n",
       "      <td>9</td>\n",
       "      <td>12</td>\n",
       "      <td>12.517533</td>\n",
       "    </tr>\n",
       "    <tr>\n",
       "      <th>497</th>\n",
       "      <td>-26.231086</td>\n",
       "      <td>-10.672482</td>\n",
       "      <td>2.563150</td>\n",
       "      <td>13.363092</td>\n",
       "      <td>10</td>\n",
       "      <td>11</td>\n",
       "      <td>12.910253</td>\n",
       "    </tr>\n",
       "    <tr>\n",
       "      <th>498</th>\n",
       "      <td>2.804773</td>\n",
       "      <td>-34.769869</td>\n",
       "      <td>20.353306</td>\n",
       "      <td>2.508352</td>\n",
       "      <td>7</td>\n",
       "      <td>13</td>\n",
       "      <td>13.257425</td>\n",
       "    </tr>\n",
       "    <tr>\n",
       "      <th>499</th>\n",
       "      <td>-14.180425</td>\n",
       "      <td>13.169069</td>\n",
       "      <td>8.018807</td>\n",
       "      <td>7.248446</td>\n",
       "      <td>7</td>\n",
       "      <td>10</td>\n",
       "      <td>14.940791</td>\n",
       "    </tr>\n",
       "  </tbody>\n",
       "</table>\n",
       "<p>500 rows × 7 columns</p>\n",
       "</div>"
      ],
      "text/plain": [
       "          var1       var2       var3       var4  var5  var6       var7\n",
       "0   -16.427992  10.337568  10.094972  12.235925    10    16  -2.336080\n",
       "1   -29.368694  20.601542  15.573639  12.159321     6    15   5.041232\n",
       "2    -6.561724   1.876631   2.625150  24.552468    10    14   6.987623\n",
       "3     7.358867  17.243398  15.855155  12.348476     9    14   9.542421\n",
       "4     6.692038 -23.179041  11.742064  19.597243     9    15  11.116361\n",
       "..         ...        ...        ...        ...   ...   ...        ...\n",
       "495 -14.625446  28.472332   3.514818  14.900529     8     9  11.921887\n",
       "496  -8.260384  29.031223  15.098677  11.791395     9    12  12.517533\n",
       "497 -26.231086 -10.672482   2.563150  13.363092    10    11  12.910253\n",
       "498   2.804773 -34.769869  20.353306   2.508352     7    13  13.257425\n",
       "499 -14.180425  13.169069   8.018807   7.248446     7    10  14.940791\n",
       "\n",
       "[500 rows x 7 columns]"
      ]
     },
     "execution_count": 212,
     "metadata": {},
     "output_type": "execute_result"
    }
   ],
   "source": [
    "names = [f'var{i + 1}' for i in range(7)]\n",
    "df = pd.read_excel('data1.xlsx', sheet_name='2',\n",
    "                   header=None, names=names)\n",
    "df"
   ]
  },
  {
   "cell_type": "markdown",
   "metadata": {},
   "source": [
    "# Задание 1. Проверить каждую выборку на принадлежность к некоторому закону распределения (данные и набор гипотез из работы 1), используя критерии хиквадрат и Колмогорова-Смирнова."
   ]
  },
  {
   "cell_type": "markdown",
   "metadata": {},
   "source": [
    "## Предварительное заключение о законе распределения каждой случайной величины.\n",
    "\n",
    "Случайные величины 2, 3, 4, 7 имеют нормальное распределение, поскольку эксцесс ≈ 0, коэффициент асимметрии ≈ 0, графически имеют вид нормального распределения.\n",
    "\n",
    "Случайная величина 1 имеет равномерное распределение, поскольку эксцесс ≈ -1.2, коэффициент асимметрии ≈ 0, графически имеют вид равномерного распределения.\n",
    "\n",
    "Случайная величина 5 имеет дискретное распределение, поскольку эксцесс ≈ 0, коэффициент асимметрии ≈ 0, графически имеют вид равномерного распределения, значения СВ - ограниченный набор дискретных значений.\n",
    "\n",
    "Случайная величина 6 имеет распределение Пуассона, поскольку эксцесс ≈ 0, коэффициент асимметрии ≈ 0, графически имеют вид равномерного распределения, значения СВ - ограниченный набор дискретных значений, математическое ожидание ≈ дисперсии. \n"
   ]
  },
  {
   "cell_type": "markdown",
   "metadata": {},
   "source": [
    "| Номер выборки|Название|Параметры|\n",
    "|--------------|:-----:||\n",
    "|1|равномерное распределение|$a = -33.9$, $b = 11.9$|\n",
    "|2|нормальное распределение|$\\mu = 8.8$, $\\sigma = 18.3$|\n",
    "|3|нормальное распределение|$\\mu = 8.8$, $\\sigma = 13.4$|\n",
    "|4|нормальное распределение|$\\mu = 12.6$, $\\sigma = 7.0$|\n",
    "|5|дискретное распределение|$p = 0.84$, $n = 10$|\n",
    "|6|распределение Пуассона|$k = 21$, $\\lambda = 12$|\n",
    "|7|нормальное распределение|$\\mu = 7.9$, $\\sigma = 3.8$|"
   ]
  },
  {
   "cell_type": "code",
   "execution_count": 214,
   "metadata": {},
   "outputs": [
    {
     "name": "stdout",
     "output_type": "stream",
     "text": [
      "KstestResult(statistic=0.04431901840490793, pvalue=0.27169482660840694)\n",
      "Power_divergenceResult(statistic=54.800000000000004, pvalue=0.2640145407051378)\n"
     ]
    }
   ],
   "source": [
    "val = df['var1']\n",
    "val = (val - val.min()) / (val.max() - val.min())\n",
    "print(stats.kstest(val, 'uniform'))\n",
    "print(chisquaretest(val, 'uniform'))"
   ]
  },
  {
   "cell_type": "code",
   "execution_count": 215,
   "metadata": {},
   "outputs": [
    {
     "name": "stdout",
     "output_type": "stream",
     "text": [
      "KstestResult(statistic=0.023701748414318713, pvalue=0.9350861476037631)\n",
      "Power_divergenceResult(statistic=30.599999999999998, pvalue=0.9817477257369395)\n",
      "\n",
      "KstestResult(statistic=0.035148746888719606, pvalue=0.5551205895441661)\n",
      "Power_divergenceResult(statistic=54.2, pvalue=0.28277962689765224)\n",
      "\n",
      "KstestResult(statistic=0.021568490889172037, pvalue=0.9702822186071135)\n",
      "Power_divergenceResult(statistic=46.800000000000004, pvalue=0.5627663523661661)\n",
      "\n",
      "KstestResult(statistic=0.14167078586757664, pvalue=3.2197709302034928e-09)\n",
      "Power_divergenceResult(statistic=3744.9999999999995, pvalue=0.0)\n",
      "\n",
      "KstestResult(statistic=0.08549827015339001, pvalue=0.0012525378026332318)\n",
      "Power_divergenceResult(statistic=1666.7999999999997, pvalue=0.0)\n",
      "\n",
      "KstestResult(statistic=0.02864931656570535, pvalue=0.7952828701879684)\n",
      "Power_divergenceResult(statistic=55.800000000000004, pvalue=0.2344896822856472)\n",
      "\n"
     ]
    }
   ],
   "source": [
    "for col in df.columns[1:]:\n",
    "    mu = df[col].mean()\n",
    "    sigma = df[col].std()\n",
    "    print(stats.kstest((df[col] - mu) / sigma, 'norm'))\n",
    "    print(chisquaretest((df[col] - mu) / sigma, 'norm'))\n",
    "    print()"
   ]
  },
  {
   "cell_type": "code",
   "execution_count": 145,
   "metadata": {},
   "outputs": [
    {
     "name": "stdout",
     "output_type": "stream",
     "text": [
      "Ttest_1sampResult(statistic=-0.586331412710869, pvalue=0.5579179523756326)\n",
      "\n",
      "Ttest_1sampResult(statistic=-0.2272187909792269, pvalue=0.8203466764544802)\n",
      "\n",
      "Ttest_1sampResult(statistic=-0.3077253665126743, pvalue=0.758419713349292)\n",
      "\n",
      "Ttest_1sampResult(statistic=-1.1954064443797716, pvalue=0.23249605556564346)\n",
      "\n",
      "Ttest_1sampResult(statistic=5.386942239753458, pvalue=1.1062190251107552e-07)\n",
      "\n",
      "Ttest_1sampResult(statistic=0.7567212713514987, pvalue=0.4495739942503243)\n",
      "\n",
      "Ttest_1sampResult(statistic=-0.4578596858835891, pvalue=0.6472525551407535)\n",
      "\n"
     ]
    }
   ],
   "source": [
    "for col in df.columns:\n",
    "    mu = df[col].mean()\n",
    "    print(stats.ttest_1samp(df[col], round(mu)))\n",
    "    print()"
   ]
  },
  {
   "cell_type": "code",
   "execution_count": 227,
   "metadata": {},
   "outputs": [
    {
     "name": "stdout",
     "output_type": "stream",
     "text": [
      "var2, var3: Ttest_indResult(statistic=-0.0016522260814812353, pvalue=0.9986820451093386)\n",
      "var2, var3: FischerSnedekorTestResult(statistic=1.867668674654247, pvalue=2.2851906823540148e-12)\n",
      "\n",
      "var2, var4: Ttest_indResult(statistic=-4.346003637549657, pvalue=1.528315048659413e-05)\n",
      "var2, var4: FischerSnedekorTestResult(statistic=6.8715557321840635, pvalue=2.010217388584183e-90)\n",
      "\n",
      "var2, var7: Ttest_indResult(statistic=1.065567488447388, pvalue=0.286876921958357)\n",
      "var2, var7: FischerSnedekorTestResult(statistic=22.855375849467364, pvalue=1.4306207954633132e-200)\n",
      "\n",
      "var3, var4: Ttest_indResult(statistic=-5.634334826908801, pvalue=2.2852824997702254e-08)\n",
      "var3, var4: FischerSnedekorTestResult(statistic=3.6792156046929265, pvalue=2.789925932632591e-45)\n",
      "\n",
      "var3, var7: Ttest_indResult(statistic=1.4331413159971242, pvalue=0.15213063712391295)\n",
      "var3, var7: FischerSnedekorTestResult(statistic=12.237382443488526, pvalue=1.3659805960196724e-140)\n",
      "\n",
      "var4, var7: Ttest_indResult(statistic=13.193747847724126, pvalue=9.360902489837301e-37)\n",
      "var4, var7: FischerSnedekorTestResult(statistic=3.3260846219176323, pvalue=3.498808836108043e-39)\n",
      "\n"
     ]
    }
   ],
   "source": [
    "nd_vars = ['var2', 'var3', 'var4', 'var7']\n",
    "\n",
    "for i in range(len(nd_vars)):\n",
    "    for j in range(i + 1, len(nd_vars)):\n",
    "        print(f'{nd_vars[i]}, {nd_vars[j]}: {stats.ttest_ind(df[nd_vars[i]], df[nd_vars[j]])}')\n",
    "        print(f'{nd_vars[i]}, {nd_vars[j]}: {fischersnedekortest(df[nd_vars[i]], df[nd_vars[j]])}')\n",
    "        print()"
   ]
  },
  {
   "cell_type": "code",
   "execution_count": 228,
   "metadata": {},
   "outputs": [
    {
     "name": "stdout",
     "output_type": "stream",
     "text": [
      "var2, var3: KstestResult(statistic=0.08, pvalue=0.08150167321107067)\n",
      "var2, var3: MannwhitneyuResult(statistic=124874.0, pvalue=0.9780753479760319)\n",
      "var2, var3: WilcoxonResult(statistic=62602.0, pvalue=0.9943226071084724)\n",
      "\n",
      "var2, var4: KstestResult(statistic=0.306, pvalue=4.568071862286397e-21)\n",
      "var2, var4: MannwhitneyuResult(statistic=104757.0, pvalue=9.306296100748736e-06)\n",
      "var2, var4: WilcoxonResult(statistic=49432.0, pvalue=4.473063663556086e-05)\n",
      "\n",
      "var2, var7: KstestResult(statistic=0.332, pvalue=8.535314188970944e-25)\n",
      "var2, var7: MannwhitneyuResult(statistic=129753.0, pvalue=0.29801462228433884)\n",
      "var2, var7: WilcoxonResult(statistic=58745.0, pvalue=0.2299942693611401)\n",
      "\n",
      "var3, var4: KstestResult(statistic=0.266, pvalue=5.833972860643141e-16)\n",
      "var3, var4: MannwhitneyuResult(statistic=102026.0, pvalue=4.886233820338595e-07)\n",
      "var3, var4: WilcoxonResult(statistic=45014.0, pvalue=5.082585030747818e-08)\n",
      "\n",
      "var3, var7: KstestResult(statistic=0.324, pvalue=1.2979749441222893e-23)\n",
      "var3, var7: MannwhitneyuResult(statistic=132395.0, pvalue=0.1053946884265909)\n",
      "var3, var7: WilcoxonResult(statistic=57808.0, pvalue=0.13615650015157857)\n",
      "\n",
      "var4, var7: KstestResult(statistic=0.408, pvalue=1.3093167708493188e-37)\n",
      "var4, var7: MannwhitneyuResult(statistic=179721.0, pvalue=4.379788703036928e-33)\n",
      "var4, var7: WilcoxonResult(statistic=25222.0, pvalue=5.744238229686333e-31)\n",
      "\n"
     ]
    }
   ],
   "source": [
    "nd_vars = ['var2', 'var3', 'var4', 'var7']\n",
    "\n",
    "for i in range(len(nd_vars)):\n",
    "    for j in range(i + 1, len(nd_vars)):\n",
    "        print(f'{nd_vars[i]}, {nd_vars[j]}: {stats.ks_2samp(df[nd_vars[i]], df[nd_vars[j]])}')\n",
    "        print(f'{nd_vars[i]}, {nd_vars[j]}: {stats.mannwhitneyu(df[nd_vars[i]], df[nd_vars[j]])}')\n",
    "        print(f'{nd_vars[i]}, {nd_vars[j]}: {stats.wilcoxon(df[nd_vars[i]], df[nd_vars[j]])}')\n",
    "        print()"
   ]
  },
  {
   "cell_type": "code",
   "execution_count": 237,
   "metadata": {},
   "outputs": [
    {
     "data": {
      "text/plain": [
       "[<matplotlib.lines.Line2D at 0x27bc0717f40>]"
      ]
     },
     "execution_count": 237,
     "metadata": {},
     "output_type": "execute_result"
    },
    {
     "data": {
      "image/png": "[encoded data removed]",
      "text/plain": [
       "<Figure size 640x480 with 1 Axes>"
      ]
     },
     "metadata": {},
     "output_type": "display_data"
    }
   ],
   "source": [
    "plt.plot(df['var7'])"
   ]
  },
  {
   "cell_type": "code",
   "execution_count": 238,
   "metadata": {},
   "outputs": [
    {
     "data": {
      "text/plain": [
       "Mann_Kendall_Test(trend='no trend', h=False, p=0.9089165606157088, z=-0.11440523966696758, Tau=-0.003430861723446894, s=-428.0, var_s=13930410.666666666, slope=-0.00014863642352730064, intercept=7.774199891596106)"
      ]
     },
     "execution_count": 238,
     "metadata": {},
     "output_type": "execute_result"
    }
   ],
   "source": [
    "mk.original_test(df['var7'])"
   ]
  },
  {
   "cell_type": "code",
   "execution_count": null,
   "metadata": {},
   "outputs": [],
   "source": []
  }
 ],
 "metadata": {
  "kernelspec": {
   "display_name": "myenv",
   "language": "python",
   "name": "myenv"
  },
  "language_info": {
   "codemirror_mode": {
    "name": "ipython",
    "version": 3
   },
   "file_extension": ".py",
   "mimetype": "text/x-python",
   "name": "python",
   "nbconvert_exporter": "python",
   "pygments_lexer": "ipython3",
   "version": "3.9.13"
  }
 },
 "nbformat": 4,
 "nbformat_minor": 2
}
